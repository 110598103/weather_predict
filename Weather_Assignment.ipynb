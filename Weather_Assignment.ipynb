{
 "cells": [
  {
   "cell_type": "code",
   "execution_count": 1,
   "metadata": {
    "colab": {
     "base_uri": "https://localhost:8080/"
    },
    "executionInfo": {
     "elapsed": 37626,
     "status": "ok",
     "timestamp": 1654407210694,
     "user": {
      "displayName": "北科大-莊重霈",
      "userId": "12506614726646157845"
     },
     "user_tz": -480
    },
    "id": "jhncaLAxi0mN",
    "outputId": "bb97f0aa-97c4-425a-dd5b-a08bedc90cad"
   },
   "outputs": [],
   "source": [
    "import sys\n",
    "import os\n",
    "import pandas as pd\n",
    "import shutil\n",
    "import re\n",
    "import datetime"
   ]
  },
  {
   "cell_type": "code",
   "execution_count": 2,
   "metadata": {
    "id": "dNLoD8zlZ8mP"
   },
   "outputs": [],
   "source": [
    "def sorted_alphanumeric(data):\n",
    "    convert = lambda text: int(text) if text.isdigit() else text.lower()\n",
    "    alphanum_key = lambda key: [ convert(c) for c in re.split('([0-9]+)', key) ]\n",
    "  \n",
    "    return sorted(data, key=alphanum_key)"
   ]
  },
  {
   "cell_type": "code",
   "execution_count": 3,
   "metadata": {
    "id": "Th7EXmolFbDs"
   },
   "outputs": [],
   "source": [
    "def day_counter(theDay, howManyDays):\n",
    "    theDay = datetime.datetime.strptime(theDay,\"%Y%m%d\")\n",
    "    delta = datetime.timedelta(days = howManyDays)\n",
    "    targetDay = theDay + delta\n",
    "    targetDay = targetDay.strftime(\"%Y%m%d\")\n",
    "\n",
    "    return targetDay"
   ]
  },
  {
   "cell_type": "code",
   "execution_count": 4,
   "metadata": {
    "id": "7e4dN5mOj_83"
   },
   "outputs": [],
   "source": [
    "def ERA5_PDF_training(theDay, filePath, Data_180_Path):\n",
    "    oneDayTrainingSet = Data_180_Path + theDay\n",
    "    ERA5Path = filePath\n",
    "    beforeTheDay = day_counter(theDay,-90)\n",
    "    src = 'ERA5_T2m_EA_'+beforeTheDay+'_PDF.csv'\n",
    "    des = 'ERA5_T2m_EA_'+beforeTheDay+'_PDF.csv'\n",
    "    shutil.copy2(os.path.join(ERA5Path, src), os.path.join(oneDayTrainingSet, des))"
   ]
  },
  {
   "cell_type": "code",
   "execution_count": 5,
   "metadata": {
    "id": "7WrzRRO6rxAj"
   },
   "outputs": [],
   "source": [
    "def CSFv2_PDF_training(theDay, filePath, Data_180_Path):\n",
    "    oneDayTrainingSet = Data_180_Path + theDay\n",
    "    CSFv2Path = filePath\n",
    "    src = 'CFSv2_T2m_EA_'+theDay+'_PDF.csv'\n",
    "    des = 'CFSv2_T2m_EA_'+theDay+'_PDF.csv'\n",
    "    shutil.copy2(os.path.join(CSFv2Path, src), os.path.join(oneDayTrainingSet, des))"
   ]
  },
  {
   "cell_type": "code",
   "execution_count": 12,
   "metadata": {
    "id": "xlM_mY2OWCdf"
   },
   "outputs": [],
   "source": [
    "def ERA5_projection_training(theDay, filePath, Data_180_Path):\n",
    "    oneDayTrainingSet = Data_180_Path + theDay\n",
    "    ERA5Path = filePath\n",
    "    filesList = sorted_alphanumeric(os.listdir(ERA5Path))\n",
    "    modelFiles = [file_ for file_ in filesList if file_[9:11]=='EA']\n",
    "    beforeTheDay = day_counter(theDay,-89)\n",
    "    year = int(beforeTheDay[:4])\n",
    "    month = int(beforeTheDay[4:6])\n",
    "    day = int(beforeTheDay[6:])\n",
    "    projectionList = []\n",
    "    for file_ in modelFiles:\n",
    "        df = pd.read_csv(os.path.join(ERA5Path,file_), header=None)\n",
    "        df = df[df[0] == year]\n",
    "        df = df[df[1] == month]\n",
    "        df = df[df[2] == day]\n",
    "        beforeDayIndex = df.index[0]\n",
    "        df = pd.read_csv(os.path.join(ERA5Path,file_), header=None)\n",
    "        tmp = df.iloc[beforeDayIndex:beforeDayIndex+90,3].tolist()\n",
    "        projectionList.append(tmp)\n",
    "    store = pd.DataFrame(data=projectionList)\n",
    "    store.to_csv(os.path.join(oneDayTrainingSet,'model_eraf.csv'), encoding = 'utf-8', index = True)"
   ]
  },
  {
   "cell_type": "code",
   "execution_count": 7,
   "metadata": {
    "id": "dNVPWmbNn9q5"
   },
   "outputs": [],
   "source": [
    "def CSFv2_projection_training(theDay, filePath, Data_180_Path):\n",
    "    oneDayTrainingSet = Data_180_Path+theDay\n",
    "    CSFv2Path = filePath\n",
    "    filesList = sorted_alphanumeric(os.listdir(CSFv2Path))\n",
    "    modelFiles = [file_ for file_ in filesList if file_[10:12]=='EA']\n",
    "    year = int(theDay[:4])\n",
    "    month = int(theDay[4:6])\n",
    "    day = int(theDay[6:])\n",
    "    projectionList = []\n",
    "    for file_ in modelFiles:\n",
    "        df = pd.read_csv(os.path.join(CSFv2Path,file_), header=None)\n",
    "        df = df[df[0] == year]\n",
    "        df = df[df[1] == month]\n",
    "        df = df[df[2] == day]\n",
    "        theDayIndex = df.index[0]\n",
    "        df = pd.read_csv(os.path.join(CSFv2Path,file_), header=None)\n",
    "        tmp = df.iloc[theDayIndex,3:].tolist()\n",
    "        projectionList.append(tmp)\n",
    "    store = pd.DataFrame(data=projectionList)\n",
    "    store.to_csv(os.path.join(oneDayTrainingSet,'model_csfv2.csv'), encoding = 'utf-8', index = True)"
   ]
  },
  {
   "cell_type": "code",
   "execution_count": 10,
   "metadata": {
    "id": "_DwDNYwjpQg_"
   },
   "outputs": [],
   "source": [
    "def training_assignment(Data_180_Path, PDF_ERA5_Path, PDF_CFSv2_Path, ERA5_past_initial_path, CFSV2_past_initial_path, theDay, filePath):\n",
    "    if not os.path.isdir(filePath + theDay):\n",
    "        os.mkdir(filePath + theDay)\n",
    "    ERA5_PDF_training(theDay, PDF_ERA5_Path, Data_180_Path)\n",
    "    CSFv2_PDF_training(theDay, PDF_CFSv2_Path, Data_180_Path)\n",
    "    ERA5_projection_training(theDay, ERA5_past_initial_path, Data_180_Path)\n",
    "    CSFv2_projection_training(theDay, CFSV2_past_initial_path, Data_180_Path)"
   ]
  },
  {
   "cell_type": "code",
   "execution_count": 13,
   "metadata": {
    "colab": {
     "base_uri": "https://localhost:8080/"
    },
    "executionInfo": {
     "elapsed": 55646,
     "status": "ok",
     "timestamp": 1654407266337,
     "user": {
      "displayName": "北科大-莊重霈",
      "userId": "12506614726646157845"
     },
     "user_tz": -480
    },
    "id": "lER-J8WIktVs",
    "outputId": "55b8c808-eefb-4413-e57a-3309c7ae1949"
   },
   "outputs": [
    {
     "name": "stdout",
     "output_type": "stream",
     "text": [
      "There are 3046 training datas.\n",
      "0    2011.0000\n",
      "1       6.0000\n",
      "2       2.0000\n",
      "3     100.6664\n",
      "Name: 91, dtype: float64\n",
      "0    2011.0000\n",
      "1       6.0000\n",
      "2       2.0000\n",
      "3     180.2717\n",
      "Name: 91, dtype: float64\n",
      "0    2011.0000\n",
      "1       6.0000\n",
      "2       2.0000\n",
      "3     820.5671\n",
      "Name: 91, dtype: float64\n",
      "0    2011.0000\n",
      "1       6.0000\n",
      "2       2.0000\n",
      "3     446.4357\n",
      "Name: 91, dtype: float64\n",
      "0    2011.0000\n",
      "1       6.0000\n",
      "2       2.0000\n",
      "3    -617.8529\n",
      "Name: 91, dtype: float64\n",
      "0    2011.0000\n",
      "1       6.0000\n",
      "2       2.0000\n",
      "3      26.0978\n",
      "Name: 91, dtype: float64\n",
      "0    2011.0000\n",
      "1       6.0000\n",
      "2       2.0000\n",
      "3    -379.3626\n",
      "Name: 91, dtype: float64\n",
      "0    2011.0000\n",
      "1       6.0000\n",
      "2       2.0000\n",
      "3      36.1796\n",
      "Name: 91, dtype: float64\n",
      "0    2011.000\n",
      "1       6.000\n",
      "2       2.000\n",
      "3    -502.374\n",
      "Name: 91, dtype: float64\n",
      "0    2011.0000\n",
      "1       6.0000\n",
      "2       2.0000\n",
      "3      -4.6415\n",
      "Name: 91, dtype: float64\n",
      "20110830 was done.\n"
     ]
    }
   ],
   "source": [
    "#資料位置\n",
    "Data_180_Path = 'D:/weather/data_180/'\n",
    "PDF_ERA5_Path = 'F:/for_ML/PDF_ans/'\n",
    "PDF_CFSv2_Path = 'F:/for_ML/PDF_CFSv2/'\n",
    "ERA5_past_initial_path = 'F:/for_ML/projection/ERA5_past_initial/'\n",
    "CFSV2_past_initial_path = 'F:/for_ML/projection/CFSv2_forecast/'\n",
    "\n",
    "if not os.path.isdir(Data_180_Path):\n",
    "    os.mkdir(Data_180_Path)\n",
    "\n",
    "firstDay = '20110830'\n",
    "lastDay = '20191231'\n",
    "\n",
    "first = datetime.datetime.strptime(firstDay,\"%Y%m%d\")\n",
    "last = datetime.datetime.strptime(lastDay,\"%Y%m%d\")\n",
    "howManyTrainingDatas = (last - first).days + 1\n",
    "print('There are',howManyTrainingDatas,'training datas.')\n",
    "\n",
    "for i in range(howManyTrainingDatas):\n",
    "    theDay = day_counter(firstDay,i)\n",
    "    training_assignment(Data_180_Path, PDF_ERA5_Path, PDF_CFSv2_Path, ERA5_past_initial_path, CFSV2_past_initial_path, theDay, Data_180_Path)\n",
    "    print(theDay,'was done.')"
   ]
  }
 ],
 "metadata": {
  "colab": {
   "authorship_tag": "ABX9TyMnv+4aOL71ny2uLmsPboKC",
   "collapsed_sections": [],
   "name": "Weather_Assignment.ipynb",
   "provenance": []
  },
  "kernelspec": {
   "display_name": "Python 3 (ipykernel)",
   "language": "python",
   "name": "python3"
  },
  "language_info": {
   "codemirror_mode": {
    "name": "ipython",
    "version": 3
   },
   "file_extension": ".py",
   "mimetype": "text/x-python",
   "name": "python",
   "nbconvert_exporter": "python",
   "pygments_lexer": "ipython3",
   "version": "3.8.12"
  }
 },
 "nbformat": 4,
 "nbformat_minor": 1
}
